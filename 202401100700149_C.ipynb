{
  "nbformat": 4,
  "nbformat_minor": 0,
  "metadata": {
    "colab": {
      "provenance": [],
      "authorship_tag": "ABX9TyMocoHvI9MhWu/K1qg2/DP7",
      "include_colab_link": true
    },
    "kernelspec": {
      "name": "python3",
      "display_name": "Python 3"
    },
    "language_info": {
      "name": "python"
    }
  },
  "cells": [
    {
      "cell_type": "markdown",
      "metadata": {
        "id": "view-in-github",
        "colab_type": "text"
      },
      "source": [
        "<a href=\"https://colab.research.google.com/github/itsdevrishi/CASE-STUDY/blob/main/202401100700149_C.ipynb\" target=\"_parent\"><img src=\"https://colab.research.google.com/assets/colab-badge.svg\" alt=\"Open In Colab\"/></a>"
      ]
    },
    {
      "cell_type": "markdown",
      "source": [
        "GROCERY STORE CALCULATOR CASE STUDY 1"
      ],
      "metadata": {
        "id": "ydWsZmg7Gkmr"
      }
    },
    {
      "cell_type": "code",
      "source": [
        "\n",
        "\n",
        "\n",
        "def grocery_calculator(item_1_price, item_2_price, item_3_price):\n",
        "\n",
        "    total_cost = item_1_price + item_2_price + item_3_price\n",
        "\n",
        "\n",
        "    if total_cost > 150:\n",
        "\n",
        "        discount = total_cost * 0.10\n",
        "        total_cost_after_discount = total_cost - discount\n",
        "        discount_status = \"discount applied\"\n",
        "    else:\n",
        "\n",
        "        discount = 0\n",
        "        total_cost_after_discount = total_cost\n",
        "        discount_status = \"no discount applied\"\n",
        "\n",
        "\n",
        "    print(\"Total cost of 3 items: Rs.\", round(total_cost, 2))\n",
        "    print(\"Discount status:\", discount_status)\n",
        "    print(\"Total discount: Rs.\", round(discount, 2))\n",
        "    print(\"Total cost after discount: Rs.\", round(total_cost_after_discount, 2))\n",
        "\n",
        "\n",
        "\n",
        "item_1_price = float(input(\"Enter price of item 1: Rs. \"))\n",
        "item_2_price = float(input(\"Enter price of item 2: Rs. \"))\n",
        "item_3_price = float(input(\"Enter price of item 3: Rs. \"))\n",
        "\n",
        "\n",
        "grocery_calculator(item_1_price, item_2_price, item_3_price)"
      ],
      "metadata": {
        "colab": {
          "base_uri": "https://localhost:8080/"
        },
        "id": "KWtMjSgLNhMB",
        "outputId": "ed82ba6e-1e57-4469-dc3a-123c93cc9460"
      },
      "execution_count": 5,
      "outputs": [
        {
          "output_type": "stream",
          "name": "stdout",
          "text": [
            "Enter price of item 1: Rs. 40\n",
            "Enter price of item 2: Rs. 30\n",
            "Enter price of item 3: Rs. 150\n",
            "Total cost of 3 items: Rs. 220.0\n",
            "Discount status: discount applied\n",
            "Total discount: Rs. 22.0\n",
            "Total cost after discount: Rs. 198.0\n"
          ]
        }
      ]
    },
    {
      "cell_type": "code",
      "source": [],
      "metadata": {
        "id": "xUW21ULnQQSZ"
      },
      "execution_count": null,
      "outputs": []
    }
  ]
}