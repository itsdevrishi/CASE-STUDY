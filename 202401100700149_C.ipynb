{
  "nbformat": 4,
  "nbformat_minor": 0,
  "metadata": {
    "colab": {
      "provenance": [],
      "authorship_tag": "ABX9TyNVHxCIEOrh0oLayy9jTdwz",
      "include_colab_link": true
    },
    "kernelspec": {
      "name": "python3",
      "display_name": "Python 3"
    },
    "language_info": {
      "name": "python"
    }
  },
  "cells": [
    {
      "cell_type": "markdown",
      "metadata": {
        "id": "view-in-github",
        "colab_type": "text"
      },
      "source": [
        "<a href=\"https://colab.research.google.com/github/itsdevrishi/CASE-STUDY/blob/main/202401100700149_C.ipynb\" target=\"_parent\"><img src=\"https://colab.research.google.com/assets/colab-badge.svg\" alt=\"Open In Colab\"/></a>"
      ]
    },
    {
      "cell_type": "markdown",
      "source": [
        "**Case Study CA-2**"
      ],
      "metadata": {
        "id": "RAjlM2YCkQE9"
      }
    },
    {
      "cell_type": "code",
      "execution_count": null,
      "metadata": {
        "colab": {
          "base_uri": "https://localhost:8080/"
        },
        "id": "lquU11_pkPA4",
        "outputId": "fccc605e-8453-48ef-ab15-15e45996192d"
      },
      "outputs": [
        {
          "output_type": "stream",
          "name": "stdout",
          "text": [
            "[█████████████████████████                         ] 50%\n",
            "\n",
            "Instructions:\n",
            "1. Type 'increase' to increase brightness.\n",
            "2. Type 'decrease' to decrease brightness.\n",
            "3. Type 'exit' to exit the program.\n",
            "4. Brightness will be adjusted in steps of 5%.\n",
            "5. The range of brightness is from 0% to 100%.\n",
            "6. Type 'help' for instructions.\n",
            "\n"
          ]
        }
      ],
      "source": [
        "import time\n",
        "\n",
        "# Define the initial parameters\n",
        "MIN_BRIGHTNESS = 0\n",
        "MAX_BRIGHTNESS = 100\n",
        "STEP_SIZE = 5  # Step size to increase or decrease brightness\n",
        "\n",
        "# Start with a default brightness\n",
        "current_brightness = 50  # Default starting brightness\n",
        "\n",
        "# Function to print the current brightness as a visual representation\n",
        "def print_brightness_bar(brightness):\n",
        "    bar = \"█\" * (brightness // 2)  # Adjust bar length based on brightness\n",
        "    spaces = \" \" * (50 - len(bar))  # Adjust for total width of 50 characters\n",
        "    print(f\"[{bar}{spaces}] {brightness}%\")\n",
        "\n",
        "# Function to display instructions\n",
        "def print_instructions():\n",
        "    print(\"\\nInstructions:\")\n",
        "    print(\"1. Type 'increase' to increase brightness.\")\n",
        "    print(\"2. Type 'decrease' to decrease brightness.\")\n",
        "    print(\"3. Type 'exit' to exit the program.\")\n",
        "    print(\"4. Brightness will be adjusted in steps of 5%.\")\n",
        "    print(\"5. The range of brightness is from 0% to 100%.\")\n",
        "    print(\"6. Type 'help' for instructions.\\n\")\n",
        "\n",
        "# Main program loop\n",
        "while True:\n",
        "    # Print the current brightness bar\n",
        "    print_brightness_bar(current_brightness)\n",
        "\n",
        "    # Ask for user input (command)\n",
        "    print_instructions()\n",
        "    command = input(\"Enter a command: \").strip().lower()\n",
        "\n",
        "    if command == \"increase\":\n",
        "        if current_brightness + STEP_SIZE <= MAX_BRIGHTNESS:\n",
        "            current_brightness += STEP_SIZE\n",
        "            print(f\"Brightness increased by {STEP_SIZE}%\")\n",
        "        else:\n",
        "            print(f\"Cannot increase brightness above {MAX_BRIGHTNESS}%\")\n",
        "\n",
        "    elif command == \"decrease\":\n",
        "        if current_brightness - STEP_SIZE >= MIN_BRIGHTNESS:\n",
        "            current_brightness -= STEP_SIZE\n",
        "            print(f\"Brightness decreased by {STEP_SIZE}%\")\n",
        "        else:\n",
        "            print(f\"Cannot decrease brightness below {MIN_BRIGHTNESS}%\")\n",
        "\n",
        "    elif command == \"exit\":\n",
        "        print(\"Exiting the program...\")\n",
        "        break  # Exit the loop\n",
        "\n",
        "    elif command == \"help\":\n",
        "        print_instructions()\n",
        "\n",
        "    else:\n",
        "        print(\"Invalid command. Please enter 'increase', 'decrease', or 'exit'.\")\n",
        "\n",
        "    # Wait a moment before prompting again\n",
        "    time.sleep(1)"
      ]
    }
  ]
}