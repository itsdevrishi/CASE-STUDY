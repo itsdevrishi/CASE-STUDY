{
  "nbformat": 4,
  "nbformat_minor": 0,
  "metadata": {
    "colab": {
      "provenance": [],
      "authorship_tag": "ABX9TyOeoWaIsnjMTh3xuts9i9og",
      "include_colab_link": true
    },
    "kernelspec": {
      "name": "python3",
      "display_name": "Python 3"
    },
    "language_info": {
      "name": "python"
    }
  },
  "cells": [
    {
      "cell_type": "markdown",
      "metadata": {
        "id": "view-in-github",
        "colab_type": "text"
      },
      "source": [
        "<a href=\"https://colab.research.google.com/github/itsdevrishi/CASE-STUDY/blob/main/RishiRaj.ipynb\" target=\"_parent\"><img src=\"https://colab.research.google.com/assets/colab-badge.svg\" alt=\"Open In Colab\"/></a>"
      ]
    },
    {
      "cell_type": "markdown",
      "source": [
        "Develope a function to monitor tempreature and provide alert"
      ],
      "metadata": {
        "id": "Cn3MpvV316Yq"
      }
    },
    {
      "cell_type": "code",
      "execution_count": 5,
      "metadata": {
        "colab": {
          "base_uri": "https://localhost:8080/"
        },
        "id": "8RjZ-Dnl1sTn",
        "outputId": "33d25332-1e80-4c7a-a815-d88ad7d6d9d4"
      },
      "outputs": [
        {
          "output_type": "stream",
          "name": "stdout",
          "text": [
            "Temperature Monitoring Loop:\n",
            "Temperature is normal: 24.5°C\n",
            "Temperature is normal: 25.2°C\n",
            "ALERT! Temperature exceeded threshold: 27.8°C\n",
            "Temperature is normal: 23.0°C\n",
            "ALERT! Temperature exceeded threshold: 30.0°C\n"
          ]
        }
      ],
      "source": [
        "#Develop a function to monitor temperature and provide alert\n",
        "import time\n",
        "\n",
        "def monitor_temperature_loop(temp_list, threshold):\n",
        "    print(\"Temperature Monitoring Loop:\")\n",
        "    for temp in temp_list:\n",
        "        if temp > threshold:\n",
        "            print(f\"ALERT! Temperature exceeded threshold: {temp}°C\")\n",
        "        else:\n",
        "            print(f\"Temperature is normal: {temp}°C\")\n",
        "        time.sleep(1)\n",
        "temperature_readings = [24.5, 25.2, 27.8, 23.0, 30.0]\n",
        "alert_threshold = 26.0\n",
        "\n",
        "monitor_temperature_loop(temperature_readings, alert_threshold)"
      ]
    }
  ]
}